{
 "cells": [
  {
   "cell_type": "code",
   "execution_count": 1,
   "id": "775ca74a-529e-46cc-8477-af1cb111fc16",
   "metadata": {},
   "outputs": [],
   "source": [
    "import pandas as pd"
   ]
  },
  {
   "cell_type": "code",
   "execution_count": 3,
   "id": "a6edb84a-fcf5-41ad-b145-302535d8df48",
   "metadata": {},
   "outputs": [
    {
     "name": "stdout",
     "output_type": "stream",
     "text": [
      "Requirement already satisfied: pandas in c:\\users\\dawid\\appdata\\local\\programs\\python\\python312\\lib\\site-packages (2.3.2)\n",
      "Requirement already satisfied: numpy>=1.26.0 in c:\\users\\dawid\\appdata\\local\\programs\\python\\python312\\lib\\site-packages (from pandas) (2.3.2)\n",
      "Requirement already satisfied: python-dateutil>=2.8.2 in c:\\users\\dawid\\appdata\\local\\programs\\python\\python312\\lib\\site-packages (from pandas) (2.9.0.post0)\n",
      "Requirement already satisfied: pytz>=2020.1 in c:\\users\\dawid\\appdata\\local\\programs\\python\\python312\\lib\\site-packages (from pandas) (2025.2)\n",
      "Requirement already satisfied: tzdata>=2022.7 in c:\\users\\dawid\\appdata\\local\\programs\\python\\python312\\lib\\site-packages (from pandas) (2025.2)\n",
      "Requirement already satisfied: six>=1.5 in c:\\users\\dawid\\appdata\\local\\programs\\python\\python312\\lib\\site-packages (from python-dateutil>=2.8.2->pandas) (1.17.0)\n"
     ]
    },
    {
     "name": "stderr",
     "output_type": "stream",
     "text": [
      "\n",
      "[notice] A new release of pip is available: 23.2.1 -> 25.2\n",
      "[notice] To update, run: python.exe -m pip install --upgrade pip\n"
     ]
    }
   ],
   "source": [
    "!pip install pandas"
   ]
  },
  {
   "cell_type": "code",
   "execution_count": 4,
   "id": "391b9052-9a75-483f-a595-2fe30672b392",
   "metadata": {},
   "outputs": [],
   "source": [
    "import pandas as pd\n",
    "\n",
    "names_series = pd.Series([\"Mark\", \"John\", \"Daniel\", \"Greg\"])\n",
    "salary_series = pd.Series([1000, 1500, 2300, 5000])"
   ]
  },
  {
   "cell_type": "code",
   "execution_count": 5,
   "id": "819cff96-ed0f-47fd-a52b-54fe5dc05345",
   "metadata": {},
   "outputs": [
    {
     "data": {
      "text/plain": [
       "'2.3.2'"
      ]
     },
     "execution_count": 5,
     "metadata": {},
     "output_type": "execute_result"
    }
   ],
   "source": [
    "pd.__version__"
   ]
  },
  {
   "cell_type": "code",
   "execution_count": 6,
   "id": "b162c82f-214a-468d-8cdd-84ae38018d36",
   "metadata": {},
   "outputs": [],
   "source": [
    "import pandas as pd\n"
   ]
  },
  {
   "cell_type": "code",
   "execution_count": 7,
   "id": "f37d2784-d417-4ab2-bc47-fde586c93c32",
   "metadata": {},
   "outputs": [],
   "source": [
    "names_series = pd.Series([\"Mark\", \"John\", \"Daniel\", \"Greg\"])\n",
    "salary_series = pd.Series([1000, 1500, 2300, 5000])"
   ]
  },
  {
   "cell_type": "code",
   "execution_count": 8,
   "id": "fbe376e4-5ee4-4ab6-9db7-40a1c4d1855c",
   "metadata": {},
   "outputs": [
    {
     "name": "stdout",
     "output_type": "stream",
     "text": [
      "0      Mark\n",
      "1      John\n",
      "2    Daniel\n",
      "3      Greg\n",
      "dtype: object\n"
     ]
    }
   ],
   "source": [
    "import pandas as pd\n",
    "\n",
    "names_series = pd.Series([\"Mark\", \"John\", \"Daniel\", \"Greg\"])\n",
    "names_series\n",
    "print(names_series)"
   ]
  },
  {
   "cell_type": "code",
   "execution_count": 9,
   "id": "91e3f3de-a37b-4f36-9c2c-0584a769a12a",
   "metadata": {},
   "outputs": [],
   "source": [
    "import pandas as pd\n",
    "names_series=pd.Series([\"Mark\",\"John\",\"Daniel\",\"Greg\"])\n",
    "salary_series=pd.Series([1000,1500,2300,5000])"
   ]
  },
  {
   "cell_type": "code",
   "execution_count": 10,
   "id": "04e5c792-3ad7-4b2c-b457-e198168b17f8",
   "metadata": {},
   "outputs": [
    {
     "name": "stdout",
     "output_type": "stream",
     "text": [
      "0      Mark\n",
      "1      John\n",
      "2    Daniel\n",
      "3      Greg\n",
      "dtype: object 0    1000\n",
      "1    1500\n",
      "2    2300\n",
      "3    5000\n",
      "dtype: int64\n"
     ]
    }
   ],
   "source": [
    "print(names_series,salary_series)"
   ]
  },
  {
   "cell_type": "code",
   "execution_count": 11,
   "id": "49b3e71d-3b12-41bf-964e-67c8dccf40a0",
   "metadata": {},
   "outputs": [
    {
     "data": {
      "text/plain": [
       "count        4\n",
       "unique       4\n",
       "top       Mark\n",
       "freq         1\n",
       "dtype: object"
      ]
     },
     "execution_count": 11,
     "metadata": {},
     "output_type": "execute_result"
    }
   ],
   "source": [
    "names_series.describe()"
   ]
  },
  {
   "cell_type": "code",
   "execution_count": 13,
   "id": "dcacc7de-1d1a-4c55-9390-33b280c20e61",
   "metadata": {},
   "outputs": [
    {
     "name": "stdout",
     "output_type": "stream",
     "text": [
      "1100\n",
      "1600\n",
      "2400\n",
      "5100\n"
     ]
    }
   ],
   "source": [
    "import pandas as pd\n",
    "salary_series=pd.Series([1000,1500,2300,5000])\n",
    "salary_series_plus_100=salary_series+100\n",
    "for salary in salary_series_plus_100:\n",
    "    print(salary)"
   ]
  },
  {
   "cell_type": "code",
   "execution_count": 3,
   "id": "2de80e10-eea5-42fa-b338-1782e70ce52c",
   "metadata": {},
   "outputs": [
    {
     "ename": "NameError",
     "evalue": "name 'salary_series' is not defined",
     "output_type": "error",
     "traceback": [
      "\u001b[31m---------------------------------------------------------------------------\u001b[39m",
      "\u001b[31mNameError\u001b[39m                                 Traceback (most recent call last)",
      "\u001b[36mCell\u001b[39m\u001b[36m \u001b[39m\u001b[32mIn[3]\u001b[39m\u001b[32m, line 5\u001b[39m\n\u001b[32m      3\u001b[39m salaries=[\u001b[32m1000\u001b[39m, \u001b[32m1500\u001b[39m, \u001b[32m2300\u001b[39m, \u001b[32m5000\u001b[39m]\n\u001b[32m      4\u001b[39m salaru_series=pd.Series(salaries,index=names)\n\u001b[32m----> \u001b[39m\u001b[32m5\u001b[39m \u001b[38;5;28mprint\u001b[39m(\u001b[43msalary_series\u001b[49m)\n",
      "\u001b[31mNameError\u001b[39m: name 'salary_series' is not defined"
     ]
    }
   ],
   "source": [
    "import pandas as pd\n",
    "names=[\"Mark\", \"John\", \"Daniel\", \"Greg\"]\n",
    "salaries=[1000, 1500, 2300, 5000]\n",
    "salaru_series=pd.Series(salaries,index=names)\n",
    "print(salary_series)\n"
   ]
  },
  {
   "cell_type": "code",
   "execution_count": 5,
   "id": "48105836-216a-43ab-acdd-1ac9b3551282",
   "metadata": {},
   "outputs": [
    {
     "ename": "NameError",
     "evalue": "name 'salary_series' is not defined",
     "output_type": "error",
     "traceback": [
      "\u001b[31m---------------------------------------------------------------------------\u001b[39m",
      "\u001b[31mNameError\u001b[39m                                 Traceback (most recent call last)",
      "\u001b[36mCell\u001b[39m\u001b[36m \u001b[39m\u001b[32mIn[5]\u001b[39m\u001b[32m, line 5\u001b[39m\n\u001b[32m      3\u001b[39m salaries=[\u001b[32m1000\u001b[39m, \u001b[32m1500\u001b[39m, \u001b[32m2300\u001b[39m, \u001b[32m5000\u001b[39m]\n\u001b[32m      4\u001b[39m salaru_series=pd.Series(salaries,names)\n\u001b[32m----> \u001b[39m\u001b[32m5\u001b[39m \u001b[38;5;28mprint\u001b[39m(\u001b[43msalary_series\u001b[49m)\n",
      "\u001b[31mNameError\u001b[39m: name 'salary_series' is not defined"
     ]
    }
   ],
   "source": [
    "import pandas as pd\n",
    "names=[\"Mark\", \"John\", \"Daniel\", \"Greg\"]\n",
    "salaries=[1000, 1500, 2300, 5000]\n",
    "salaru_series=pd.Series(salaries,names)\n",
    "print(salary_series)\n"
   ]
  },
  {
   "cell_type": "code",
   "execution_count": 7,
   "id": "90e4cd48-ad42-4897-936f-d7c35e5283ce",
   "metadata": {},
   "outputs": [
    {
     "ename": "NameError",
     "evalue": "name 'salary_series' is not defined",
     "output_type": "error",
     "traceback": [
      "\u001b[31m---------------------------------------------------------------------------\u001b[39m",
      "\u001b[31mNameError\u001b[39m                                 Traceback (most recent call last)",
      "\u001b[36mCell\u001b[39m\u001b[36m \u001b[39m\u001b[32mIn[7]\u001b[39m\u001b[32m, line 5\u001b[39m\n\u001b[32m      3\u001b[39m salaries=[\u001b[32m1000\u001b[39m, \u001b[32m1500\u001b[39m, \u001b[32m2300\u001b[39m, \u001b[32m5000\u001b[39m]\n\u001b[32m      4\u001b[39m salaru_series=pd.Series(salaries,index=names)\n\u001b[32m----> \u001b[39m\u001b[32m5\u001b[39m \u001b[38;5;28mprint\u001b[39m(\u001b[43msalary_series\u001b[49m)\n\u001b[32m      6\u001b[39m \u001b[38;5;28mprint\u001b[39m(salary_series.index)\n",
      "\u001b[31mNameError\u001b[39m: name 'salary_series' is not defined"
     ]
    }
   ],
   "source": [
    "import pandas as pd\n",
    "names=[\"Mark\", \"John\", \"Daniel\", \"Greg\"]\n",
    "salaries=[1000, 1500, 2300, 5000]\n",
    "salaru_series=pd.Series(salaries,index=names)\n",
    "print(salary_series)\n",
    "print(salary_series.index)"
   ]
  },
  {
   "cell_type": "code",
   "execution_count": 11,
   "id": "5b89833c-d89b-45e7-9f2c-6b56a41210dc",
   "metadata": {},
   "outputs": [
    {
     "name": "stdout",
     "output_type": "stream",
     "text": [
      "Mark      1000\n",
      "John      1500\n",
      "Daniel    2300\n",
      "Greg      5000\n",
      "dtype: int64\n"
     ]
    }
   ],
   "source": [
    "import pandas as pd\n",
    "names=[\"Mark\", \"John\", \"Daniel\", \"Greg\"]\n",
    "salaries=[1000, 1500, 2300, 5000]\n",
    "salary_series=pd.Series(salaries,index=names)\n",
    "print(salary_series)\n"
   ]
  },
  {
   "cell_type": "code",
   "execution_count": 12,
   "id": "440d0475-8596-4190-9e55-5e40ed84340b",
   "metadata": {},
   "outputs": [
    {
     "name": "stdout",
     "output_type": "stream",
     "text": [
      "1500\n"
     ]
    }
   ],
   "source": [
    "print(salary_series[\"John\"])"
   ]
  },
  {
   "cell_type": "code",
   "execution_count": 1,
   "id": "55148723-5b64-458c-9db4-614859025571",
   "metadata": {},
   "outputs": [],
   "source": [
    "import pandas as pd\n"
   ]
  },
  {
   "cell_type": "code",
   "execution_count": 2,
   "id": "ece518d3-94ab-4f1d-acde-8d9cc692e3e3",
   "metadata": {},
   "outputs": [
    {
     "name": "stdout",
     "output_type": "stream",
     "text": [
      "Requirement already satisfied: pandas in c:\\users\\dawid\\appdata\\local\\programs\\python\\python312\\lib\\site-packages (2.3.2)\n",
      "Requirement already satisfied: numpy>=1.26.0 in c:\\users\\dawid\\appdata\\local\\programs\\python\\python312\\lib\\site-packages (from pandas) (2.3.2)\n",
      "Requirement already satisfied: python-dateutil>=2.8.2 in c:\\users\\dawid\\appdata\\local\\programs\\python\\python312\\lib\\site-packages (from pandas) (2.9.0.post0)\n",
      "Requirement already satisfied: pytz>=2020.1 in c:\\users\\dawid\\appdata\\local\\programs\\python\\python312\\lib\\site-packages (from pandas) (2025.2)\n",
      "Requirement already satisfied: tzdata>=2022.7 in c:\\users\\dawid\\appdata\\local\\programs\\python\\python312\\lib\\site-packages (from pandas) (2025.2)\n",
      "Requirement already satisfied: six>=1.5 in c:\\users\\dawid\\appdata\\local\\programs\\python\\python312\\lib\\site-packages (from python-dateutil>=2.8.2->pandas) (1.17.0)\n"
     ]
    },
    {
     "name": "stderr",
     "output_type": "stream",
     "text": [
      "\n",
      "[notice] A new release of pip is available: 23.2.1 -> 25.2\n",
      "[notice] To update, run: python.exe -m pip install --upgrade pip\n"
     ]
    }
   ],
   "source": [
    "!pip install pandas "
   ]
  },
  {
   "cell_type": "code",
   "execution_count": 3,
   "id": "c2755062-ca1e-4812-ae6a-6def57aab531",
   "metadata": {},
   "outputs": [
    {
     "name": "stdout",
     "output_type": "stream",
     "text": [
      "        0     1   2\n",
      "0    Mark  1000  23\n",
      "1    John  1500  25\n",
      "2  Daniel  2300  38\n",
      "3    Greg  5000  42\n"
     ]
    }
   ],
   "source": [
    "salaries = [\n",
    "    (\"Mark\", 1000, 23),\n",
    "    (\"John\", 1500, 25),\n",
    "    (\"Daniel\", 2300, 38),\n",
    "    (\"Greg\", 5000, 42)\n",
    "]\n",
    "import pandas as pd\n",
    "df=pd.DataFrame(salaries)\n",
    "print(df)\n"
   ]
  },
  {
   "cell_type": "code",
   "execution_count": 4,
   "id": "25f171ff-9bb1-4147-b07e-bc55b65abf03",
   "metadata": {},
   "outputs": [
    {
     "ename": "TypeError",
     "evalue": "DataFrame.__init__() got an unexpected keyword argument 'colums'",
     "output_type": "error",
     "traceback": [
      "\u001b[31m---------------------------------------------------------------------------\u001b[39m",
      "\u001b[31mTypeError\u001b[39m                                 Traceback (most recent call last)",
      "\u001b[36mCell\u001b[39m\u001b[36m \u001b[39m\u001b[32mIn[4]\u001b[39m\u001b[32m, line 1\u001b[39m\n\u001b[32m----> \u001b[39m\u001b[32m1\u001b[39m df=\u001b[43mpd\u001b[49m\u001b[43m.\u001b[49m\u001b[43mDataFrame\u001b[49m\u001b[43m(\u001b[49m\u001b[43msalaries\u001b[49m\u001b[43m,\u001b[49m\u001b[43m \u001b[49m\u001b[43mcolums\u001b[49m\u001b[43m=\u001b[49m\u001b[43m[\u001b[49m\u001b[33;43m\"\u001b[39;49m\u001b[33;43mname\u001b[39;49m\u001b[33;43m\"\u001b[39;49m\u001b[43m,\u001b[49m\u001b[33;43m\"\u001b[39;49m\u001b[33;43msalary\u001b[39;49m\u001b[33;43m\"\u001b[39;49m\u001b[43m,\u001b[49m\u001b[33;43m\"\u001b[39;49m\u001b[33;43mage\u001b[39;49m\u001b[33;43m\"\u001b[39;49m\u001b[43m]\u001b[49m\u001b[43m)\u001b[49m\n\u001b[32m      2\u001b[39m \u001b[38;5;28mprint\u001b[39m(df)\n",
      "\u001b[31mTypeError\u001b[39m: DataFrame.__init__() got an unexpected keyword argument 'colums'"
     ]
    }
   ],
   "source": [
    "df=pd.DataFrame(salaries, colums=[\"name\",\"salary\",\"age\"])\n",
    "print(df)"
   ]
  },
  {
   "cell_type": "code",
   "execution_count": 5,
   "id": "3842f733-1460-479c-acaa-f7f85044a3c1",
   "metadata": {},
   "outputs": [
    {
     "ename": "TypeError",
     "evalue": "DataFrame.__init__() got an unexpected keyword argument 'colums'",
     "output_type": "error",
     "traceback": [
      "\u001b[31m---------------------------------------------------------------------------\u001b[39m",
      "\u001b[31mTypeError\u001b[39m                                 Traceback (most recent call last)",
      "\u001b[36mCell\u001b[39m\u001b[36m \u001b[39m\u001b[32mIn[5]\u001b[39m\u001b[32m, line 7\u001b[39m\n\u001b[32m      1\u001b[39m salaries = [\n\u001b[32m      2\u001b[39m     (\u001b[33m\"\u001b[39m\u001b[33mMark\u001b[39m\u001b[33m\"\u001b[39m, \u001b[32m1000\u001b[39m, \u001b[32m23\u001b[39m),\n\u001b[32m      3\u001b[39m     (\u001b[33m\"\u001b[39m\u001b[33mJohn\u001b[39m\u001b[33m\"\u001b[39m, \u001b[32m1500\u001b[39m, \u001b[32m25\u001b[39m),\n\u001b[32m      4\u001b[39m     (\u001b[33m\"\u001b[39m\u001b[33mDaniel\u001b[39m\u001b[33m\"\u001b[39m, \u001b[32m2300\u001b[39m, \u001b[32m38\u001b[39m),\n\u001b[32m      5\u001b[39m     (\u001b[33m\"\u001b[39m\u001b[33mGreg\u001b[39m\u001b[33m\"\u001b[39m, \u001b[32m5000\u001b[39m, \u001b[32m42\u001b[39m)\n\u001b[32m      6\u001b[39m ]\n\u001b[32m----> \u001b[39m\u001b[32m7\u001b[39m df=\u001b[43mpd\u001b[49m\u001b[43m.\u001b[49m\u001b[43mDataFrame\u001b[49m\u001b[43m(\u001b[49m\u001b[43msalaries\u001b[49m\u001b[43m,\u001b[49m\u001b[43m \u001b[49m\u001b[43mcolums\u001b[49m\u001b[43m=\u001b[49m\u001b[43m[\u001b[49m\u001b[33;43m\"\u001b[39;49m\u001b[33;43mname\u001b[39;49m\u001b[33;43m\"\u001b[39;49m\u001b[43m,\u001b[49m\u001b[33;43m\"\u001b[39;49m\u001b[33;43msalary\u001b[39;49m\u001b[33;43m\"\u001b[39;49m\u001b[43m,\u001b[49m\u001b[33;43m\"\u001b[39;49m\u001b[33;43mage\u001b[39;49m\u001b[33;43m\"\u001b[39;49m\u001b[43m]\u001b[49m\u001b[43m)\u001b[49m\n\u001b[32m      8\u001b[39m \u001b[38;5;28mprint\u001b[39m(df)\n",
      "\u001b[31mTypeError\u001b[39m: DataFrame.__init__() got an unexpected keyword argument 'colums'"
     ]
    }
   ],
   "source": [
    "salaries = [\n",
    "    (\"Mark\", 1000, 23),\n",
    "    (\"John\", 1500, 25),\n",
    "    (\"Daniel\", 2300, 38),\n",
    "    (\"Greg\", 5000, 42)\n",
    "]\n",
    "df=pd.DataFrame(salaries, colums=[\"name\",\"salary\",\"age\"])\n",
    "print(df)"
   ]
  },
  {
   "cell_type": "code",
   "execution_count": 6,
   "id": "2aef2d92-35cd-420a-a13e-0a749fc3e171",
   "metadata": {},
   "outputs": [
    {
     "name": "stdout",
     "output_type": "stream",
     "text": [
      "     name  salary  age\n",
      "0    Mark    1000   23\n",
      "1    John    1500   25\n",
      "2  Daniel    2300   38\n",
      "3    Greg    5000   42\n"
     ]
    }
   ],
   "source": [
    "df=pd.DataFrame(salaries, columns=[\"name\",\"salary\",\"age\"])\n",
    "print(df)\n",
    "salaries = [\n",
    "    (\"Mark\", 1000, 23),\n",
    "    (\"John\", 1500, 25),\n",
    "    (\"Daniel\", 2300, 38),\n",
    "    (\"Greg\", 5000, 42)\n",
    "]"
   ]
  },
  {
   "cell_type": "code",
   "execution_count": null,
   "id": "c44917bf-ab49-481c-91bd-6fa5341113fd",
   "metadata": {},
   "outputs": [],
   "source": []
  },
  {
   "cell_type": "code",
   "execution_count": 7,
   "id": "d4c15173-b841-4a8d-8114-2670c20c3787",
   "metadata": {},
   "outputs": [
    {
     "name": "stdout",
     "output_type": "stream",
     "text": [
      "     name  salary  age initials\n",
      "0    Mark    1000   23        M\n",
      "1    John    1500   25        J\n",
      "2  Daniel    2300   38        D\n",
      "3    Greg    5000   42        G\n"
     ]
    }
   ],
   "source": [
    "import pandas as pd\n",
    "salaries=[\n",
    "    (\"Mark\", 1000, 23),\n",
    "    (\"John\", 1500, 25),\n",
    "    (\"Daniel\", 2300, 38),\n",
    "    (\"Greg\", 5000, 42)\n",
    "]\n",
    "df=pd.DataFrame(salaries,columns=[\"name\",\"salary\",\"age\"])\n",
    "df[\"initials\"]=df[\"name\"].str[0]\n",
    "print(df)"
   ]
  },
  {
   "cell_type": "code",
   "execution_count": 8,
   "id": "313e0c92-621a-4d53-84ae-22f026af23ba",
   "metadata": {},
   "outputs": [
    {
     "data": {
      "image/png": "[encoded data removed]",
      "text/plain": [
       "<Figure size 640x480 with 1 Axes>"
      ]
     },
     "metadata": {},
     "output_type": "display_data"
    }
   ],
   "source": [
    "import pandas as pd\n",
    "import matplotlib.pyplot as plt\n",
    "\n",
    "# Dane\n",
    "salaries = [\n",
    "    (\"Mark\", 1000, 23),\n",
    "    (\"John\", 1500, 25),\n",
    "    (\"Daniel\", 2300, 38),\n",
    "    (\"Greg\", 5000, 42)\n",
    "]\n",
    "\n",
    "# Tworzymy DataFrame i ustawiamy imię jako indeks\n",
    "df = pd.DataFrame(salaries, columns=[\"name\", \"salary\", \"age\"])\n",
    "df = df.set_index(\"name\")\n",
    "\n",
    "# Rysowanie wykresu słupkowego wieku\n",
    "ax = df['age'].plot(\n",
    "    kind='bar',\n",
    "    colormap='Oranges',   # delikatny pomarańczowy kolor\n",
    "    title=\"Workers age\"   # tytuł wykresu\n",
    ")\n",
    "\n",
    "# Dodajemy etykietę osi Y\n",
    "ax.set_ylabel(\"Age\")\n",
    "\n",
    "# Wyświetlamy wykres\n",
    "plt.show()"
   ]
  },
  {
   "cell_type": "code",
   "execution_count": 9,
   "id": "ee73b147-bb0f-490c-95a7-9d33a9cb6e00",
   "metadata": {},
   "outputs": [
    {
     "data": {
      "image/png": "[encoded data removed]",
      "text/plain": [
       "<Figure size 640x480 with 1 Axes>"
      ]
     },
     "metadata": {},
     "output_type": "display_data"
    }
   ],
   "source": [
    "import pandas as pd\n",
    "import matplotlib.pyplot as plt\n",
    "\n",
    "# Dane: (miesiąc, cena w PLN)\n",
    "prices = [\n",
    "    (1, 2.12),\n",
    "    (2, 2.56),\n",
    "    (3, 3.10),\n",
    "    (4, 3.16),\n",
    "    (5, 3.58),\n",
    "    (6, 5.12),\n",
    "    (7, 5.16),\n",
    "    (8, 5.20),\n",
    "    (9, 4.12),\n",
    "    (10, 4.10),\n",
    "    (11, 3.65),\n",
    "    (12, 4.25),\n",
    "]\n",
    "\n",
    "# 1. Tworzymy DataFrame\n",
    "df = pd.DataFrame(prices, columns=[\"month\", \"pricePLN\"])\n",
    "\n",
    "# 2. Ustawiamy indeks na miesiąc\n",
    "df = df.set_index(\"month\")\n",
    "\n",
    "# 3. Dodajemy kolumnę priceUSD (1 USD = 4 PLN)\n",
    "df[\"priceUSD\"] = df[\"pricePLN\"] / 4\n",
    "\n",
    "# 4. Rysujemy wykres liniowy (kolor czerwony, linia przerywana)\n",
    "ax = df[\"priceUSD\"].plot(\n",
    "    kind=\"line\",\n",
    "    color=\"red\",\n",
    "    linestyle=\"--\",\n",
    "    marker=\"o\",       # dodajemy kropki dla lepszej widoczności\n",
    "    title=\"Product price in USD by month\"\n",
    ")\n",
    "\n",
    "ax.set_xlabel(\"Month\")\n",
    "ax.set_ylabel(\"Price (USD)\")\n",
    "\n",
    "plt.show()"
   ]
  },
  {
   "cell_type": "code",
   "execution_count": 10,
   "id": "f840cea3-47bd-4b1b-b8f7-8a654b8020df",
   "metadata": {},
   "outputs": [
    {
     "data": {
      "image/png": "[encoded data removed]",
      "text/plain": [
       "<Figure size 640x480 with 1 Axes>"
      ]
     },
     "metadata": {},
     "output_type": "display_data"
    }
   ],
   "source": [
    "import pandas as pd\n",
    "import matplotlib.pyplot as plt\n",
    "\n",
    "# Dane: (miesiąc, cena w PLN)\n",
    "prices = [\n",
    "    (1, 2.12),\n",
    "    (2, 2.56),\n",
    "    (3, 3.10),\n",
    "    (4, 3.16),\n",
    "    (5, 3.58),\n",
    "    (6, 5.12),\n",
    "    (7, 5.16),\n",
    "    (8, 5.20),\n",
    "    (9, 4.12),\n",
    "    (10, 4.10),\n",
    "    (11, 3.65),\n",
    "    (12, 4.25),\n",
    "]\n",
    "\n",
    "# Tworzymy DataFrame\n",
    "df = pd.DataFrame(prices, columns=[\"month\", \"pricePLN\"])\n",
    "\n",
    "# Ustawiamy indeks na miesiąc\n",
    "df = df.set_index(\"month\")\n",
    "\n",
    "# Dodajemy kolumnę priceUSD (1 USD = 4 PLN)\n",
    "df[\"priceUSD\"] = df[\"pricePLN\"] / 4\n",
    "\n",
    "# Rysujemy wykres\n",
    "df[\"priceUSD\"].plot(\n",
    "    kind=\"line\",\n",
    "    color=\"red\",\n",
    "    linestyle=\"--\"\n",
    ")\n",
    "\n",
    "plt.title(\"Price of goods (USD)\")\n",
    "plt.xlabel(\"month\")\n",
    "plt.ylabel(\"\")\n",
    "\n",
    "plt.show()"
   ]
  },
  {
   "cell_type": "code",
   "execution_count": 11,
   "id": "d47a320a-dae3-4aed-9979-7300f2d4a8d5",
   "metadata": {},
   "outputs": [
    {
     "data": {
      "image/png": "[encoded data removed]",
      "text/plain": [
       "<Figure size 640x480 with 1 Axes>"
      ]
     },
     "metadata": {},
     "output_type": "display_data"
    }
   ],
   "source": [
    "import pandas as pd\n",
    "import matplotlib.pyplot as plt\n",
    "\n",
    "# Dane: (miesiąc, cena w PLN)\n",
    "prices = [\n",
    "    (1, 2.12),\n",
    "    (2, 2.56),\n",
    "    (3, 3.10),\n",
    "    (4, 3.16),\n",
    "    (5, 3.58),\n",
    "    (6, 5.12),\n",
    "    (7, 5.16),\n",
    "    (8, 5.20),\n",
    "    (9, 4.12),\n",
    "    (10, 4.10),\n",
    "    (11, 3.65),\n",
    "    (12, 4.25),\n",
    "]\n",
    "\n",
    "# Tworzymy DataFrame\n",
    "df = pd.DataFrame(prices, columns=[\"month\", \"pricePLN\"])\n",
    "\n",
    "# Ustawiamy indeks na miesiąc\n",
    "df = df.set_index(\"month\")\n",
    "\n",
    "# Dodajemy kolumnę priceUSD (1 USD = 4 PLN)\n",
    "df[\"priceUSD\"] = df[\"pricePLN\"] / 4\n",
    "\n",
    "# Rysujemy wykres\n",
    "df[\"priceUSD\"].plot(\n",
    "    kind=\"line\",\n",
    "    color=\"red\",\n",
    "    linestyle=\"--\"\n",
    ")\n",
    "\n",
    "plt.title(\"Price of goods (USD)\")\n",
    "plt.xlabel(\"month\")\n",
    "plt.ylabel(\"\")\n",
    "plt.ylim(0, 2)   # <-- zakres osi Y od 0 do 2\n",
    "\n",
    "plt.show()"
   ]
  },
  {
   "cell_type": "code",
   "execution_count": null,
   "id": "d1dca5ce-e81a-47f3-bff8-7790f16b1fc5",
   "metadata": {},
   "outputs": [],
   "source": []
  }
 ],
 "metadata": {
  "kernelspec": {
   "display_name": "Python 3 (ipykernel)",
   "language": "python",
   "name": "python3"
  },
  "language_info": {
   "codemirror_mode": {
    "name": "ipython",
    "version": 3
   },
   "file_extension": ".py",
   "mimetype": "text/x-python",
   "name": "python",
   "nbconvert_exporter": "python",
   "pygments_lexer": "ipython3",
   "version": "3.12.0"
  }
 },
 "nbformat": 4,
 "nbformat_minor": 5
}
